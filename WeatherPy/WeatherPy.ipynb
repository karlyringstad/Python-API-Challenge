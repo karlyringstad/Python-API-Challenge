{
 "cells": [
  {
   "cell_type": "markdown",
   "metadata": {},
   "source": [
    "# WeatherPy\n",
    "----\n",
    "\n",
    "#### Note\n",
    "* Instructions have been included for each segment. You do not have to follow them exactly, but they are included to help you think through the steps."
   ]
  },
  {
   "cell_type": "markdown",
   "metadata": {},
   "source": [
    "# Observable Trends\n",
    "\n",
    "1. The data shows that as a the latitude of a city approaches the equator, its maximum temperature increases.\n",
    "\n",
    "2. There does not appear to be a relationship between the latitude of a city and its humidity, cloudiness, or wind speed.\n",
    "\n",
    "3. The city's with the warmest temperature seem to be located between the Tropic of Cancer (23.5 degrees North of the equator) and the Tropic of Capricorn (23.5 degrees South of the equator)."
   ]
  },
  {
   "cell_type": "code",
   "execution_count": 1,
   "metadata": {
    "scrolled": true
   },
   "outputs": [],
   "source": [
    "# Dependencies and Setup\n",
    "import matplotlib.pyplot as plt\n",
    "import pandas as pd\n",
    "import numpy as np\n",
    "import requests\n",
    "import time\n",
    "from scipy.stats import linregress\n",
    "import json\n",
    "import requests\n",
    "from pprint import pprint\n",
    "import random\n",
    "\n",
    "# Import API key\n",
    "from api_keys import weather_key\n",
    "\n",
    "# Incorporated citipy to determine city based on latitude and longitude\n",
    "from citipy import citipy\n",
    "\n",
    "# Output File (CSV)\n",
    "output_data_file = \"output_data/cities.csv\"\n",
    "\n",
    "# Range of latitudes and longitudes\n",
    "lat_range = (-90, 90)\n",
    "lng_range = (-180, 180)"
   ]
  },
  {
   "cell_type": "markdown",
   "metadata": {},
   "source": [
    "## Generate Cities List"
   ]
  },
  {
   "cell_type": "code",
   "execution_count": 2,
   "metadata": {},
   "outputs": [
    {
     "data": {
      "text/plain": [
       "601"
      ]
     },
     "execution_count": 2,
     "metadata": {},
     "output_type": "execute_result"
    }
   ],
   "source": [
    "# List for holding lat_lngs and cities\n",
    "lat_lngs = []\n",
    "cities = []\n",
    "countries = []\n",
    "\n",
    "# Create a set of random lat and lng combinations\n",
    "lats = np.random.uniform(low=-90.000, high=90.000, size=1500)\n",
    "lngs = np.random.uniform(low=-180.000, high=180.000, size=1500)\n",
    "lat_lngs = zip(lats, lngs)\n",
    "\n",
    "# Identify nearest city for each lat, lng combination\n",
    "for lat_lng in lat_lngs:\n",
    "    city = citipy.nearest_city(lat_lng[0], lat_lng[1]).city_name\n",
    "    country = citipy.nearest_city(lat_lng[0], lat_lng[1]).country_code\n",
    "    # If the city is unique, then add it to a our cities list\n",
    "    if city not in cities:\n",
    "        cities.append(city)\n",
    "        countries.append(country.upper())\n",
    "# Print the city count to confirm sufficient count\n",
    "len(cities)"
   ]
  },
  {
   "cell_type": "markdown",
   "metadata": {},
   "source": [
    "### Perform API Calls\n",
    "* Perform a weather check on each city using a series of successive API calls.\n",
    "* Include a print log of each city as it'sbeing processed (with the city number and city name).\n"
   ]
  },
  {
   "cell_type": "code",
   "execution_count": 3,
   "metadata": {},
   "outputs": [
    {
     "data": {
      "text/html": [
       "<div>\n",
       "<style scoped>\n",
       "    .dataframe tbody tr th:only-of-type {\n",
       "        vertical-align: middle;\n",
       "    }\n",
       "\n",
       "    .dataframe tbody tr th {\n",
       "        vertical-align: top;\n",
       "    }\n",
       "\n",
       "    .dataframe thead th {\n",
       "        text-align: right;\n",
       "    }\n",
       "</style>\n",
       "<table border=\"1\" class=\"dataframe\">\n",
       "  <thead>\n",
       "    <tr style=\"text-align: right;\">\n",
       "      <th></th>\n",
       "      <th>City</th>\n",
       "      <th>Cloudiness</th>\n",
       "      <th>Country</th>\n",
       "      <th>Date</th>\n",
       "      <th>Humidity</th>\n",
       "      <th>Lat</th>\n",
       "      <th>Lng</th>\n",
       "      <th>Max Temp</th>\n",
       "      <th>Windspeed</th>\n",
       "    </tr>\n",
       "  </thead>\n",
       "  <tbody>\n",
       "    <tr>\n",
       "      <td>0</td>\n",
       "      <td>catuday</td>\n",
       "      <td></td>\n",
       "      <td>PH</td>\n",
       "      <td></td>\n",
       "      <td></td>\n",
       "      <td></td>\n",
       "      <td></td>\n",
       "      <td></td>\n",
       "      <td></td>\n",
       "    </tr>\n",
       "    <tr>\n",
       "      <td>1</td>\n",
       "      <td>silikatnyy</td>\n",
       "      <td></td>\n",
       "      <td>RU</td>\n",
       "      <td></td>\n",
       "      <td></td>\n",
       "      <td></td>\n",
       "      <td></td>\n",
       "      <td></td>\n",
       "      <td></td>\n",
       "    </tr>\n",
       "    <tr>\n",
       "      <td>2</td>\n",
       "      <td>georgetown</td>\n",
       "      <td></td>\n",
       "      <td>SH</td>\n",
       "      <td></td>\n",
       "      <td></td>\n",
       "      <td></td>\n",
       "      <td></td>\n",
       "      <td></td>\n",
       "      <td></td>\n",
       "    </tr>\n",
       "    <tr>\n",
       "      <td>3</td>\n",
       "      <td>rikitea</td>\n",
       "      <td></td>\n",
       "      <td>PF</td>\n",
       "      <td></td>\n",
       "      <td></td>\n",
       "      <td></td>\n",
       "      <td></td>\n",
       "      <td></td>\n",
       "      <td></td>\n",
       "    </tr>\n",
       "    <tr>\n",
       "      <td>4</td>\n",
       "      <td>tromso</td>\n",
       "      <td></td>\n",
       "      <td>NO</td>\n",
       "      <td></td>\n",
       "      <td></td>\n",
       "      <td></td>\n",
       "      <td></td>\n",
       "      <td></td>\n",
       "      <td></td>\n",
       "    </tr>\n",
       "  </tbody>\n",
       "</table>\n",
       "</div>"
      ],
      "text/plain": [
       "         City Cloudiness Country Date Humidity Lat Lng Max Temp Windspeed\n",
       "0     catuday                 PH                                         \n",
       "1  silikatnyy                 RU                                         \n",
       "2  georgetown                 SH                                         \n",
       "3     rikitea                 PF                                         \n",
       "4      tromso                 NO                                         "
      ]
     },
     "execution_count": 3,
     "metadata": {},
     "output_type": "execute_result"
    }
   ],
   "source": [
    "# Create a data frame to store info\n",
    "weather_df = pd.DataFrame({'City': cities, 'Cloudiness': \"\", 'Country': countries, 'Date': \"\",\n",
    "                            'Humidity': \"\", 'Lat': \"\", 'Lng': \"\", 'Max Temp': \"\", 'Windspeed': \"\"})\n",
    "\n",
    "#Preview the dataframe\n",
    "weather_df.head()"
   ]
  },
  {
   "cell_type": "code",
   "execution_count": 4,
   "metadata": {},
   "outputs": [],
   "source": [
    "# Base URL \n",
    "url = \"http://api.openweathermap.org/data/2.5/weather?q=\"\n",
    "units = \"imperial\""
   ]
  },
  {
   "cell_type": "code",
   "execution_count": 5,
   "metadata": {
    "scrolled": true
   },
   "outputs": [
    {
     "name": "stdout",
     "output_type": "stream",
     "text": [
      "Beginning Data Retrieval\n",
      "-----------------------------\n",
      "Processing Weather Data for Record 1 of Set 1 | catuday\n",
      "Processing Weather Data for Record 2 of Set 1 | silikatnyy\n",
      "Processing Weather Data for Record 3 of Set 1 | georgetown\n",
      "Processing Weather Data for Record 4 of Set 1 | rikitea\n",
      "Processing Weather Data for Record 5 of Set 1 | tromso\n",
      "Processing Weather Data for Record 6 of Set 1 | taolanaro\n",
      "City not found...Skipping...\n",
      "Processing Weather Data for Record 6 of Set 1 | cheyenne\n",
      "Processing Weather Data for Record 7 of Set 1 | nanortalik\n",
      "Processing Weather Data for Record 8 of Set 1 | avarua\n",
      "Processing Weather Data for Record 9 of Set 1 | san patricio\n",
      "Processing Weather Data for Record 10 of Set 1 | yibin\n",
      "Processing Weather Data for Record 11 of Set 1 | bredasdorp\n",
      "Processing Weather Data for Record 12 of Set 1 | hermanus\n",
      "Processing Weather Data for Record 13 of Set 1 | barentsburg\n",
      "City not found...Skipping...\n",
      "Processing Weather Data for Record 13 of Set 1 | jinchang\n",
      "Processing Weather Data for Record 14 of Set 1 | tasiilaq\n",
      "Processing Weather Data for Record 15 of Set 1 | dodge city\n",
      "Processing Weather Data for Record 16 of Set 1 | san ramon de la nueva oran\n",
      "Processing Weather Data for Record 17 of Set 1 | tuktoyaktuk\n",
      "Processing Weather Data for Record 18 of Set 1 | lebu\n",
      "Processing Weather Data for Record 19 of Set 1 | carnarvon\n",
      "Processing Weather Data for Record 20 of Set 1 | saint-pierre\n",
      "Processing Weather Data for Record 21 of Set 1 | shemysheyka\n",
      "Processing Weather Data for Record 22 of Set 1 | jamestown\n",
      "Processing Weather Data for Record 23 of Set 1 | gurgan\n",
      "City not found...Skipping...\n",
      "Processing Weather Data for Record 23 of Set 1 | touros\n",
      "Processing Weather Data for Record 24 of Set 1 | llanelli\n",
      "Processing Weather Data for Record 25 of Set 1 | mahebourg\n",
      "Processing Weather Data for Record 26 of Set 1 | kavaratti\n",
      "Processing Weather Data for Record 27 of Set 1 | turcianske teplice\n",
      "Processing Weather Data for Record 28 of Set 1 | vaini\n",
      "Processing Weather Data for Record 29 of Set 1 | fatehpur\n",
      "Processing Weather Data for Record 30 of Set 1 | sorvag\n",
      "City not found...Skipping...\n",
      "Processing Weather Data for Record 30 of Set 1 | saint-philippe\n",
      "Processing Weather Data for Record 31 of Set 1 | puerto ayora\n",
      "Processing Weather Data for Record 32 of Set 1 | ustye\n",
      "Processing Weather Data for Record 33 of Set 1 | rapid valley\n",
      "Processing Weather Data for Record 34 of Set 1 | matay\n",
      "Processing Weather Data for Record 35 of Set 1 | syracuse\n",
      "Processing Weather Data for Record 36 of Set 1 | kudahuvadhoo\n",
      "Processing Weather Data for Record 37 of Set 1 | mataura\n",
      "City not found...Skipping...\n",
      "Processing Weather Data for Record 37 of Set 1 | morant bay\n",
      "Processing Weather Data for Record 38 of Set 1 | bluff\n",
      "Processing Weather Data for Record 39 of Set 1 | mount barker\n",
      "Processing Weather Data for Record 40 of Set 1 | oriximina\n",
      "Processing Weather Data for Record 41 of Set 1 | nizhniy kuranakh\n",
      "Processing Weather Data for Record 42 of Set 1 | chokurdakh\n",
      "Processing Weather Data for Record 43 of Set 1 | warqla\n",
      "City not found...Skipping...\n",
      "Processing Weather Data for Record 43 of Set 1 | maicao\n",
      "Processing Weather Data for Record 44 of Set 1 | raisen\n",
      "Processing Weather Data for Record 45 of Set 1 | half moon bay\n",
      "Processing Weather Data for Record 46 of Set 1 | cape town\n",
      "Processing Weather Data for Record 47 of Set 1 | provideniya\n",
      "Processing Weather Data for Record 48 of Set 1 | teguldet\n",
      "Processing Weather Data for Record 49 of Set 1 | gryfice\n",
      "Processing Weather Data for Record 50 of Set 1 | punta arenas\n",
      "Processing Weather Data for Record 51 of Set 1 | luanda\n",
      "Processing Weather Data for Record 52 of Set 1 | busselton\n",
      "Processing Weather Data for Record 53 of Set 1 | ushuaia\n",
      "Processing Weather Data for Record 54 of Set 1 | hammerfest\n",
      "Processing Weather Data for Record 55 of Set 1 | angra\n",
      "City not found...Skipping...\n",
      "Processing Weather Data for Record 55 of Set 1 | fairburn\n",
      "Processing Weather Data for Record 56 of Set 1 | salalah\n",
      "Processing Weather Data for Record 57 of Set 1 | lucapa\n",
      "Processing Weather Data for Record 58 of Set 1 | sioux lookout\n",
      "Processing Weather Data for Record 59 of Set 1 | nikolskoye\n",
      "Processing Weather Data for Record 60 of Set 1 | bilma\n",
      "Processing Weather Data for Record 61 of Set 1 | ginda\n",
      "City not found...Skipping...\n",
      "Processing Weather Data for Record 61 of Set 1 | yerbogachen\n",
      "Processing Weather Data for Record 62 of Set 1 | bolungarvik\n",
      "City not found...Skipping...\n",
      "Processing Weather Data for Record 62 of Set 1 | valparaiso\n",
      "Processing Weather Data for Record 63 of Set 1 | thompson\n",
      "Processing Weather Data for Record 64 of Set 1 | estacion coahuila\n",
      "Processing Weather Data for Record 65 of Set 1 | iqaluit\n",
      "Processing Weather Data for Record 66 of Set 1 | codrington\n",
      "City not found...Skipping...\n",
      "Processing Weather Data for Record 66 of Set 1 | olafsvik\n",
      "Processing Weather Data for Record 67 of Set 1 | nhulunbuy\n",
      "Processing Weather Data for Record 68 of Set 1 | mahibadhoo\n",
      "Processing Weather Data for Record 69 of Set 1 | sayyan\n",
      "Processing Weather Data for Record 70 of Set 1 | butaritari\n",
      "Processing Weather Data for Record 71 of Set 1 | bundaberg\n",
      "Processing Weather Data for Record 72 of Set 1 | celestun\n",
      "Processing Weather Data for Record 73 of Set 1 | arraial do cabo\n",
      "Processing Weather Data for Record 74 of Set 1 | sitka\n",
      "Processing Weather Data for Record 75 of Set 1 | hobart\n",
      "Processing Weather Data for Record 76 of Set 1 | kiunga\n",
      "Processing Weather Data for Record 77 of Set 1 | samusu\n",
      "City not found...Skipping...\n",
      "Processing Weather Data for Record 77 of Set 1 | richards bay\n",
      "Processing Weather Data for Record 78 of Set 1 | ajdabiya\n",
      "Processing Weather Data for Record 79 of Set 1 | leningradskiy\n",
      "Processing Weather Data for Record 80 of Set 1 | souillac\n",
      "Processing Weather Data for Record 81 of Set 1 | orlik\n",
      "Processing Weather Data for Record 82 of Set 1 | mrirt\n",
      "City not found...Skipping...\n",
      "Processing Weather Data for Record 82 of Set 1 | vila velha\n",
      "Processing Weather Data for Record 83 of Set 1 | lagoa\n",
      "Processing Weather Data for Record 84 of Set 1 | khatanga\n",
      "Processing Weather Data for Record 85 of Set 1 | obo\n",
      "Processing Weather Data for Record 86 of Set 1 | laguna\n",
      "Processing Weather Data for Record 87 of Set 1 | nador\n",
      "Processing Weather Data for Record 88 of Set 1 | kapaa\n",
      "Processing Weather Data for Record 89 of Set 1 | belushya guba\n",
      "City not found...Skipping...\n",
      "Processing Weather Data for Record 89 of Set 1 | sibolga\n",
      "Processing Weather Data for Record 90 of Set 1 | landang\n",
      "City not found...Skipping...\n",
      "Processing Weather Data for Record 90 of Set 1 | biak\n",
      "Processing Weather Data for Record 91 of Set 1 | esperance\n",
      "Processing Weather Data for Record 92 of Set 1 | mayumba\n",
      "Processing Weather Data for Record 93 of Set 1 | victoria\n",
      "Processing Weather Data for Record 94 of Set 1 | attawapiskat\n",
      "City not found...Skipping...\n",
      "Processing Weather Data for Record 94 of Set 1 | severo-kurilsk\n",
      "Processing Weather Data for Record 95 of Set 1 | khorixas\n",
      "Processing Weather Data for Record 96 of Set 1 | new norfolk\n",
      "Processing Weather Data for Record 97 of Set 1 | ambodifototra\n",
      "City not found...Skipping...\n",
      "Processing Weather Data for Record 97 of Set 1 | tete\n",
      "Processing Weather Data for Record 98 of Set 1 | puri\n",
      "Processing Weather Data for Record 99 of Set 1 | roald\n",
      "Processing Weather Data for Record 100 of Set 1 | east london\n",
      "Processing Weather Data for Record 101 of Set 1 | renqiu\n",
      "Processing Weather Data for Record 102 of Set 1 | amazar\n",
      "Processing Weather Data for Record 103 of Set 1 | ilave\n",
      "Processing Weather Data for Record 104 of Set 1 | kahului\n",
      "Processing Weather Data for Record 105 of Set 1 | saint anthony\n",
      "City not found...Skipping...\n",
      "Processing Weather Data for Record 105 of Set 1 | melfi\n",
      "Processing Weather Data for Record 106 of Set 1 | mugumu\n",
      "Processing Weather Data for Record 107 of Set 1 | cidreira\n",
      "Processing Weather Data for Record 108 of Set 1 | ishinomaki\n",
      "Processing Weather Data for Record 109 of Set 1 | dikson\n",
      "Processing Weather Data for Record 110 of Set 1 | albany\n",
      "Processing Weather Data for Record 111 of Set 1 | havelock\n",
      "Processing Weather Data for Record 112 of Set 1 | castro\n",
      "Processing Weather Data for Record 113 of Set 1 | yellowknife\n",
      "Processing Weather Data for Record 114 of Set 1 | atuona\n"
     ]
    },
    {
     "name": "stdout",
     "output_type": "stream",
     "text": [
      "Processing Weather Data for Record 115 of Set 1 | sao filipe\n",
      "Processing Weather Data for Record 116 of Set 1 | bethel\n",
      "Processing Weather Data for Record 117 of Set 1 | nizhniy ingash\n",
      "Processing Weather Data for Record 118 of Set 1 | semey\n",
      "Processing Weather Data for Record 119 of Set 1 | ambilobe\n",
      "Processing Weather Data for Record 120 of Set 1 | saint-louis\n",
      "Processing Weather Data for Record 121 of Set 1 | harper\n",
      "Processing Weather Data for Record 122 of Set 1 | hunchun\n",
      "Processing Weather Data for Record 123 of Set 1 | kasongo-lunda\n",
      "Processing Weather Data for Record 124 of Set 1 | sao joao da barra\n",
      "Processing Weather Data for Record 125 of Set 1 | tyret pervaya\n",
      "Processing Weather Data for Record 126 of Set 1 | port hardy\n",
      "Processing Weather Data for Record 127 of Set 1 | longyearbyen\n",
      "Processing Weather Data for Record 128 of Set 1 | batagay-alyta\n",
      "Processing Weather Data for Record 129 of Set 1 | moberly\n",
      "Processing Weather Data for Record 130 of Set 1 | qaanaaq\n",
      "Processing Weather Data for Record 131 of Set 1 | plettenberg bay\n",
      "Processing Weather Data for Record 132 of Set 1 | marawi\n",
      "Processing Weather Data for Record 133 of Set 1 | namatanai\n",
      "Processing Weather Data for Record 134 of Set 1 | chuy\n",
      "Processing Weather Data for Record 135 of Set 1 | boguchar\n",
      "Processing Weather Data for Record 136 of Set 1 | myitkyina\n",
      "Processing Weather Data for Record 137 of Set 1 | cherskiy\n",
      "Processing Weather Data for Record 138 of Set 1 | samoded\n",
      "Processing Weather Data for Record 139 of Set 1 | san jose\n",
      "Processing Weather Data for Record 140 of Set 1 | zabaykalsk\n",
      "Processing Weather Data for Record 141 of Set 1 | ribeira grande\n",
      "Processing Weather Data for Record 142 of Set 1 | mys shmidta\n",
      "City not found...Skipping...\n",
      "Processing Weather Data for Record 142 of Set 1 | hienghene\n",
      "Processing Weather Data for Record 143 of Set 1 | road town\n",
      "Processing Weather Data for Record 144 of Set 1 | babanusah\n",
      "City not found...Skipping...\n",
      "Processing Weather Data for Record 144 of Set 1 | eureka\n",
      "Processing Weather Data for Record 145 of Set 1 | lakatoro\n",
      "Processing Weather Data for Record 146 of Set 1 | mount isa\n",
      "Processing Weather Data for Record 147 of Set 1 | sarankhola\n",
      "Processing Weather Data for Record 148 of Set 1 | ilo\n",
      "Processing Weather Data for Record 149 of Set 1 | pevek\n",
      "Processing Weather Data for Record 150 of Set 1 | port alfred\n",
      "Processing Weather Data for Record 151 of Set 1 | illoqqortoormiut\n",
      "City not found...Skipping...\n",
      "Processing Weather Data for Record 151 of Set 1 | beloha\n",
      "Processing Weather Data for Record 152 of Set 1 | ossora\n",
      "Processing Weather Data for Record 153 of Set 1 | tacuarembo\n",
      "Processing Weather Data for Record 154 of Set 1 | west bay\n",
      "Processing Weather Data for Record 155 of Set 1 | nemuro\n",
      "Processing Weather Data for Record 156 of Set 1 | sao miguel do araguaia\n",
      "Processing Weather Data for Record 157 of Set 1 | labuhan\n",
      "Processing Weather Data for Record 158 of Set 1 | samarinda\n",
      "Processing Weather Data for Record 159 of Set 1 | longview\n",
      "Processing Weather Data for Record 160 of Set 1 | grand river south east\n",
      "City not found...Skipping...\n",
      "Processing Weather Data for Record 160 of Set 1 | pangnirtung\n",
      "Processing Weather Data for Record 161 of Set 1 | upernavik\n",
      "Processing Weather Data for Record 162 of Set 1 | norman wells\n",
      "Processing Weather Data for Record 163 of Set 1 | beaumont\n",
      "Processing Weather Data for Record 164 of Set 1 | itarema\n",
      "Processing Weather Data for Record 165 of Set 1 | genc\n",
      "Processing Weather Data for Record 166 of Set 1 | karasjok\n",
      "Processing Weather Data for Record 167 of Set 1 | mogadishu\n",
      "Processing Weather Data for Record 168 of Set 1 | antofagasta\n",
      "Processing Weather Data for Record 169 of Set 1 | takoradi\n",
      "Processing Weather Data for Record 170 of Set 1 | mirador\n",
      "Processing Weather Data for Record 171 of Set 1 | iskateley\n",
      "Processing Weather Data for Record 172 of Set 1 | hithadhoo\n",
      "Processing Weather Data for Record 173 of Set 1 | ahipara\n",
      "Processing Weather Data for Record 174 of Set 1 | amderma\n",
      "City not found...Skipping...\n",
      "Processing Weather Data for Record 174 of Set 1 | sorland\n",
      "Processing Weather Data for Record 175 of Set 1 | khani\n",
      "City not found...Skipping...\n",
      "Processing Weather Data for Record 175 of Set 1 | katsuura\n",
      "Processing Weather Data for Record 176 of Set 1 | quechultenango\n",
      "Processing Weather Data for Record 177 of Set 1 | agadir\n",
      "Processing Weather Data for Record 178 of Set 1 | sal rei\n",
      "Processing Weather Data for Record 179 of Set 1 | tessalit\n",
      "Processing Weather Data for Record 180 of Set 1 | glasgow\n",
      "Processing Weather Data for Record 181 of Set 1 | wanlaweyn\n",
      "Processing Weather Data for Record 182 of Set 1 | asyut\n",
      "Processing Weather Data for Record 183 of Set 1 | ponta do sol\n",
      "Processing Weather Data for Record 184 of Set 1 | baltoji voke\n",
      "Processing Weather Data for Record 185 of Set 1 | garwolin\n",
      "Processing Weather Data for Record 186 of Set 1 | saint-augustin\n",
      "Processing Weather Data for Record 187 of Set 1 | santa comba\n",
      "Processing Weather Data for Record 188 of Set 1 | kovdor\n",
      "Processing Weather Data for Record 189 of Set 1 | alappuzha\n",
      "Processing Weather Data for Record 190 of Set 1 | port blair\n",
      "Processing Weather Data for Record 191 of Set 1 | lorengau\n",
      "Processing Weather Data for Record 192 of Set 1 | hofn\n",
      "Processing Weather Data for Record 193 of Set 1 | mana\n",
      "Processing Weather Data for Record 194 of Set 1 | jabiru\n",
      "City not found...Skipping...\n",
      "Processing Weather Data for Record 194 of Set 1 | teguise\n",
      "Processing Weather Data for Record 195 of Set 1 | huangpi\n",
      "Processing Weather Data for Record 196 of Set 1 | babu\n",
      "Processing Weather Data for Record 197 of Set 1 | hasaki\n",
      "Processing Weather Data for Record 198 of Set 1 | bathsheba\n",
      "Processing Weather Data for Record 199 of Set 1 | kodiak\n",
      "Processing Weather Data for Record 200 of Set 1 | rechitsy\n",
      "Processing Weather Data for Record 201 of Set 1 | cockburn town\n",
      "Processing Weather Data for Record 202 of Set 1 | parras\n",
      "City not found...Skipping...\n",
      "Processing Weather Data for Record 202 of Set 1 | misratah\n",
      "Processing Weather Data for Record 203 of Set 1 | chifeng\n",
      "Processing Weather Data for Record 204 of Set 1 | urucara\n",
      "Processing Weather Data for Record 205 of Set 1 | fairbanks\n",
      "Processing Weather Data for Record 206 of Set 1 | broome\n",
      "Processing Weather Data for Record 207 of Set 1 | pingzhuang\n",
      "Processing Weather Data for Record 208 of Set 1 | qaqortoq\n",
      "Processing Weather Data for Record 209 of Set 1 | sonamukhi\n",
      "Processing Weather Data for Record 210 of Set 1 | whitianga\n",
      "Processing Weather Data for Record 211 of Set 1 | boa vista\n",
      "Processing Weather Data for Record 212 of Set 1 | presidencia roque saenz pena\n",
      "Processing Weather Data for Record 213 of Set 1 | coihaique\n",
      "Processing Weather Data for Record 214 of Set 1 | hilo\n",
      "Processing Weather Data for Record 215 of Set 1 | butembo\n",
      "Processing Weather Data for Record 216 of Set 1 | avera\n",
      "City not found...Skipping...\n",
      "Processing Weather Data for Record 216 of Set 1 | saint george\n",
      "Processing Weather Data for Record 217 of Set 1 | nizhneyansk\n",
      "City not found...Skipping...\n",
      "Processing Weather Data for Record 217 of Set 1 | asau\n",
      "City not found...Skipping...\n",
      "Processing Weather Data for Record 217 of Set 1 | kuchera\n",
      "Processing Weather Data for Record 218 of Set 1 | phan thiet\n",
      "Processing Weather Data for Record 219 of Set 1 | hunza\n",
      "City not found...Skipping...\n",
      "Processing Weather Data for Record 219 of Set 1 | magistralnyy\n",
      "Processing Weather Data for Record 220 of Set 1 | reading\n",
      "Processing Weather Data for Record 221 of Set 1 | aspropirgos\n",
      "City not found...Skipping...\n",
      "Processing Weather Data for Record 221 of Set 1 | cabo san lucas\n",
      "Processing Weather Data for Record 222 of Set 1 | thinadhoo\n",
      "Processing Weather Data for Record 223 of Set 1 | karkaralinsk\n",
      "City not found...Skipping...\n",
      "Processing Weather Data for Record 223 of Set 1 | el rosario\n",
      "Processing Weather Data for Record 224 of Set 1 | fortuna\n",
      "Processing Weather Data for Record 225 of Set 1 | san cristobal\n",
      "Processing Weather Data for Record 226 of Set 1 | terney\n",
      "Processing Weather Data for Record 227 of Set 1 | necochea\n",
      "Processing Weather Data for Record 228 of Set 1 | namtsy\n",
      "Processing Weather Data for Record 229 of Set 1 | sentyabrskiy\n",
      "City not found...Skipping...\n",
      "Processing Weather Data for Record 229 of Set 1 | barrow\n",
      "Processing Weather Data for Record 230 of Set 1 | strezhevoy\n"
     ]
    },
    {
     "name": "stdout",
     "output_type": "stream",
     "text": [
      "Processing Weather Data for Record 231 of Set 1 | muravlenko\n",
      "Processing Weather Data for Record 232 of Set 1 | atbasar\n",
      "Processing Weather Data for Record 233 of Set 1 | ostrovnoy\n",
      "Processing Weather Data for Record 234 of Set 1 | zhigansk\n",
      "Processing Weather Data for Record 235 of Set 1 | praia\n",
      "Processing Weather Data for Record 236 of Set 1 | yumen\n",
      "Processing Weather Data for Record 237 of Set 1 | gobabis\n",
      "Processing Weather Data for Record 238 of Set 1 | chapais\n",
      "Processing Weather Data for Record 239 of Set 1 | mount gambier\n",
      "Processing Weather Data for Record 240 of Set 1 | berlevag\n",
      "Processing Weather Data for Record 241 of Set 1 | ardrishaig\n",
      "Processing Weather Data for Record 242 of Set 1 | bambous virieux\n",
      "Processing Weather Data for Record 243 of Set 1 | dinajpur\n",
      "Processing Weather Data for Record 244 of Set 1 | vila do maio\n",
      "Processing Weather Data for Record 245 of Set 1 | dali\n",
      "Processing Weather Data for Record 246 of Set 1 | frasinet\n",
      "Processing Weather Data for Record 247 of Set 1 | baghdad\n",
      "Processing Weather Data for Record 248 of Set 1 | bur gabo\n",
      "City not found...Skipping...\n",
      "Processing Weather Data for Record 248 of Set 1 | kichera\n",
      "Processing Weather Data for Record 249 of Set 1 | rio grande\n",
      "Processing Weather Data for Record 250 of Set 1 | miraflores\n",
      "Processing Weather Data for Record 251 of Set 1 | viligili\n",
      "City not found...Skipping...\n",
      "Processing Weather Data for Record 251 of Set 1 | udachnyy\n",
      "Processing Weather Data for Record 252 of Set 1 | spirit river\n",
      "Processing Weather Data for Record 253 of Set 1 | khandyga\n",
      "Processing Weather Data for Record 254 of Set 1 | namibe\n",
      "Processing Weather Data for Record 255 of Set 1 | sur\n",
      "Processing Weather Data for Record 256 of Set 1 | jucuaran\n",
      "Processing Weather Data for Record 257 of Set 1 | dezful\n",
      "Processing Weather Data for Record 258 of Set 1 | tiksi\n",
      "Processing Weather Data for Record 259 of Set 1 | chiredzi\n",
      "Processing Weather Data for Record 260 of Set 1 | okhotsk\n",
      "Processing Weather Data for Record 261 of Set 1 | tabiauea\n",
      "City not found...Skipping...\n",
      "Processing Weather Data for Record 261 of Set 1 | vaitupu\n",
      "City not found...Skipping...\n",
      "Processing Weather Data for Record 261 of Set 1 | coquimbo\n",
      "Processing Weather Data for Record 262 of Set 1 | santa maria da boa vista\n",
      "Processing Weather Data for Record 263 of Set 1 | sylva\n",
      "Processing Weather Data for Record 264 of Set 1 | henties bay\n",
      "Processing Weather Data for Record 265 of Set 1 | almeirim\n",
      "Processing Weather Data for Record 266 of Set 1 | port elizabeth\n",
      "Processing Weather Data for Record 267 of Set 1 | grand gaube\n",
      "Processing Weather Data for Record 268 of Set 1 | aksarka\n",
      "Processing Weather Data for Record 269 of Set 1 | susanville\n",
      "Processing Weather Data for Record 270 of Set 1 | opuwo\n",
      "Processing Weather Data for Record 271 of Set 1 | broken hill\n",
      "Processing Weather Data for Record 272 of Set 1 | candawaga\n",
      "City not found...Skipping...\n",
      "Processing Weather Data for Record 272 of Set 1 | aasiaat\n",
      "Processing Weather Data for Record 273 of Set 1 | grindavik\n",
      "Processing Weather Data for Record 274 of Set 1 | ilhabela\n",
      "Processing Weather Data for Record 275 of Set 1 | alexandria\n",
      "Processing Weather Data for Record 276 of Set 1 | jackson\n",
      "Processing Weather Data for Record 277 of Set 1 | le port\n",
      "Processing Weather Data for Record 278 of Set 1 | rakhya\n",
      "City not found...Skipping...\n",
      "Processing Weather Data for Record 278 of Set 1 | daloa\n",
      "Processing Weather Data for Record 279 of Set 1 | port lincoln\n",
      "Processing Weather Data for Record 280 of Set 1 | yinchuan\n",
      "Processing Weather Data for Record 281 of Set 1 | andreiasu de jos\n",
      "Processing Weather Data for Record 282 of Set 1 | preston\n",
      "Processing Weather Data for Record 283 of Set 1 | kodinsk\n",
      "Processing Weather Data for Record 284 of Set 1 | tucurui\n",
      "Processing Weather Data for Record 285 of Set 1 | sambava\n",
      "Processing Weather Data for Record 286 of Set 1 | loandjili\n",
      "Processing Weather Data for Record 287 of Set 1 | paamiut\n",
      "Processing Weather Data for Record 288 of Set 1 | deogarh\n",
      "Processing Weather Data for Record 289 of Set 1 | yakeshi\n",
      "Processing Weather Data for Record 290 of Set 1 | port macquarie\n",
      "Processing Weather Data for Record 291 of Set 1 | sydney\n",
      "Processing Weather Data for Record 292 of Set 1 | isangel\n",
      "Processing Weather Data for Record 293 of Set 1 | barawe\n",
      "City not found...Skipping...\n",
      "Processing Weather Data for Record 293 of Set 1 | ilulissat\n",
      "Processing Weather Data for Record 294 of Set 1 | vao\n",
      "Processing Weather Data for Record 295 of Set 1 | severo-yeniseyskiy\n",
      "Processing Weather Data for Record 296 of Set 1 | dzhubga\n",
      "Processing Weather Data for Record 297 of Set 1 | kavieng\n",
      "Processing Weather Data for Record 298 of Set 1 | veraval\n",
      "Processing Weather Data for Record 299 of Set 1 | tucupita\n",
      "Processing Weather Data for Record 300 of Set 1 | chernenko\n",
      "Processing Weather Data for Record 301 of Set 1 | nouadhibou\n",
      "Processing Weather Data for Record 302 of Set 1 | pasighat\n",
      "Processing Weather Data for Record 303 of Set 1 | rosa zarate\n",
      "Processing Weather Data for Record 304 of Set 1 | mocuba\n",
      "Processing Weather Data for Record 305 of Set 1 | urengoy\n",
      "Processing Weather Data for Record 306 of Set 1 | petropavlovsk-kamchatskiy\n",
      "Processing Weather Data for Record 307 of Set 1 | kharp\n",
      "Processing Weather Data for Record 308 of Set 1 | clyde river\n",
      "Processing Weather Data for Record 309 of Set 1 | amapa\n",
      "Processing Weather Data for Record 310 of Set 1 | taoudenni\n",
      "Processing Weather Data for Record 311 of Set 1 | palana\n",
      "Processing Weather Data for Record 312 of Set 1 | baykit\n",
      "Processing Weather Data for Record 313 of Set 1 | bud\n",
      "Processing Weather Data for Record 314 of Set 1 | jalu\n",
      "Processing Weather Data for Record 315 of Set 1 | polunochnoye\n",
      "Processing Weather Data for Record 316 of Set 1 | shwebo\n",
      "Processing Weather Data for Record 317 of Set 1 | yirol\n",
      "City not found...Skipping...\n",
      "Processing Weather Data for Record 317 of Set 1 | mizdah\n",
      "Processing Weather Data for Record 318 of Set 1 | novobirilyussy\n",
      "Processing Weather Data for Record 319 of Set 1 | spoleto\n",
      "Processing Weather Data for Record 320 of Set 1 | borovoy\n",
      "Processing Weather Data for Record 321 of Set 1 | dire\n",
      "Processing Weather Data for Record 322 of Set 1 | helena\n",
      "Processing Weather Data for Record 323 of Set 1 | lompoc\n",
      "Processing Weather Data for Record 324 of Set 1 | seoul\n",
      "Processing Weather Data for Record 325 of Set 1 | tilichiki\n",
      "Processing Weather Data for Record 326 of Set 1 | hamilton\n",
      "Processing Weather Data for Record 327 of Set 1 | elie\n",
      "Processing Weather Data for Record 328 of Set 1 | torbat-e jam\n",
      "Processing Weather Data for Record 329 of Set 1 | belmonte\n",
      "Processing Weather Data for Record 330 of Set 1 | tuatapere\n",
      "Processing Weather Data for Record 331 of Set 1 | mopti\n",
      "Processing Weather Data for Record 332 of Set 1 | tecoanapa\n",
      "Processing Weather Data for Record 333 of Set 1 | voh\n",
      "Processing Weather Data for Record 334 of Set 1 | torbay\n",
      "Processing Weather Data for Record 335 of Set 1 | alofi\n",
      "Processing Weather Data for Record 336 of Set 1 | sasovo\n",
      "Processing Weather Data for Record 337 of Set 1 | shingu\n",
      "Processing Weather Data for Record 338 of Set 1 | pitimbu\n",
      "Processing Weather Data for Record 339 of Set 1 | pindiga\n",
      "Processing Weather Data for Record 340 of Set 1 | mar del plata\n",
      "Processing Weather Data for Record 341 of Set 1 | bonthe\n",
      "Processing Weather Data for Record 342 of Set 1 | tir pol\n",
      "City not found...Skipping...\n",
      "Processing Weather Data for Record 342 of Set 1 | lazaro cardenas\n",
      "Processing Weather Data for Record 343 of Set 1 | villa florida\n",
      "Processing Weather Data for Record 344 of Set 1 | ancud\n",
      "Processing Weather Data for Record 345 of Set 1 | synya\n",
      "Processing Weather Data for Record 346 of Set 1 | tamandare\n",
      "Processing Weather Data for Record 347 of Set 1 | correntina\n",
      "Processing Weather Data for Record 348 of Set 1 | baiyin\n",
      "Processing Weather Data for Record 349 of Set 1 | guaruja\n",
      "Processing Weather Data for Record 350 of Set 1 | gort\n",
      "Processing Weather Data for Record 351 of Set 1 | viransehir\n",
      "Processing Weather Data for Record 352 of Set 1 | ca mau\n",
      "Processing Weather Data for Record 353 of Set 1 | buala\n",
      "Processing Weather Data for Record 354 of Set 1 | ayan\n",
      "Processing Weather Data for Record 355 of Set 1 | champerico\n",
      "Processing Weather Data for Record 356 of Set 1 | lola\n"
     ]
    },
    {
     "name": "stdout",
     "output_type": "stream",
     "text": [
      "Processing Weather Data for Record 357 of Set 1 | karaul\n",
      "City not found...Skipping...\n",
      "Processing Weather Data for Record 357 of Set 1 | lavrentiya\n",
      "Processing Weather Data for Record 358 of Set 1 | wanning\n",
      "Processing Weather Data for Record 359 of Set 1 | simplicio mendes\n",
      "Processing Weather Data for Record 360 of Set 1 | pinyug\n",
      "Processing Weather Data for Record 361 of Set 1 | nome\n",
      "Processing Weather Data for Record 362 of Set 1 | rabat\n",
      "Processing Weather Data for Record 363 of Set 1 | hay river\n",
      "Processing Weather Data for Record 364 of Set 1 | bolshevik\n",
      "Processing Weather Data for Record 365 of Set 1 | stornoway\n",
      "Processing Weather Data for Record 366 of Set 1 | lac du bonnet\n",
      "Processing Weather Data for Record 367 of Set 1 | kurumkan\n",
      "Processing Weather Data for Record 368 of Set 1 | stoyba\n",
      "City not found...Skipping...\n",
      "Processing Weather Data for Record 368 of Set 1 | bengkulu\n",
      "Processing Weather Data for Record 369 of Set 1 | romanovo\n",
      "Processing Weather Data for Record 370 of Set 1 | vila franca do campo\n",
      "Processing Weather Data for Record 371 of Set 1 | ryotsu\n",
      "Processing Weather Data for Record 372 of Set 1 | jiupu\n",
      "Processing Weather Data for Record 373 of Set 1 | quixada\n",
      "Processing Weather Data for Record 374 of Set 1 | bay roberts\n",
      "Processing Weather Data for Record 375 of Set 1 | vila\n",
      "City not found...Skipping...\n",
      "Processing Weather Data for Record 375 of Set 1 | lyaskelya\n",
      "Processing Weather Data for Record 376 of Set 1 | trairi\n",
      "Processing Weather Data for Record 377 of Set 1 | kruisfontein\n",
      "Processing Weather Data for Record 378 of Set 1 | qasigiannguit\n",
      "Processing Weather Data for Record 379 of Set 1 | qandahar\n",
      "City not found...Skipping...\n",
      "Processing Weather Data for Record 379 of Set 1 | lerwick\n",
      "Processing Weather Data for Record 380 of Set 1 | kondinskoye\n",
      "Processing Weather Data for Record 381 of Set 1 | saskylakh\n",
      "Processing Weather Data for Record 382 of Set 1 | soyo\n",
      "Processing Weather Data for Record 383 of Set 1 | puerto asis\n",
      "Processing Weather Data for Record 384 of Set 1 | eyl\n",
      "Processing Weather Data for Record 385 of Set 1 | manokwari\n",
      "Processing Weather Data for Record 386 of Set 1 | hauterive\n",
      "Processing Weather Data for Record 387 of Set 1 | okato\n",
      "Processing Weather Data for Record 388 of Set 1 | la libertad\n",
      "Processing Weather Data for Record 389 of Set 1 | bonavista\n",
      "Processing Weather Data for Record 390 of Set 1 | aguas vermelhas\n",
      "Processing Weather Data for Record 391 of Set 1 | yar-sale\n",
      "Processing Weather Data for Record 392 of Set 1 | bardiyah\n",
      "Processing Weather Data for Record 393 of Set 1 | storforshei\n",
      "Processing Weather Data for Record 394 of Set 1 | fortuna foothills\n",
      "Processing Weather Data for Record 395 of Set 1 | raga\n",
      "City not found...Skipping...\n",
      "Processing Weather Data for Record 395 of Set 1 | najran\n",
      "Processing Weather Data for Record 396 of Set 1 | hongan\n",
      "City not found...Skipping...\n",
      "Processing Weather Data for Record 396 of Set 1 | hervey bay\n",
      "Processing Weather Data for Record 397 of Set 1 | buraydah\n",
      "Processing Weather Data for Record 398 of Set 1 | langsa\n",
      "Processing Weather Data for Record 399 of Set 1 | constitucion\n",
      "Processing Weather Data for Record 400 of Set 1 | college\n",
      "Processing Weather Data for Record 401 of Set 1 | derzhavinsk\n",
      "Processing Weather Data for Record 402 of Set 1 | muros\n",
      "Processing Weather Data for Record 403 of Set 1 | aklavik\n",
      "Processing Weather Data for Record 404 of Set 1 | redlands\n",
      "Processing Weather Data for Record 405 of Set 1 | sarila\n",
      "Processing Weather Data for Record 406 of Set 1 | vardo\n",
      "Processing Weather Data for Record 407 of Set 1 | kathu\n",
      "Processing Weather Data for Record 408 of Set 1 | iralaya\n",
      "Processing Weather Data for Record 409 of Set 1 | burica\n",
      "City not found...Skipping...\n",
      "Processing Weather Data for Record 409 of Set 1 | tahoua\n",
      "Processing Weather Data for Record 410 of Set 1 | kristiinankaupunki\n",
      "Processing Weather Data for Record 411 of Set 1 | ampanihy\n",
      "Processing Weather Data for Record 412 of Set 1 | mayo\n",
      "Processing Weather Data for Record 413 of Set 1 | deputatskiy\n",
      "Processing Weather Data for Record 414 of Set 1 | tura\n",
      "Processing Weather Data for Record 415 of Set 1 | gizo\n",
      "Processing Weather Data for Record 416 of Set 1 | padang\n",
      "Processing Weather Data for Record 417 of Set 1 | inhambane\n",
      "Processing Weather Data for Record 418 of Set 1 | marivan\n",
      "Processing Weather Data for Record 419 of Set 1 | veracruz\n",
      "Processing Weather Data for Record 420 of Set 1 | santa cruz\n",
      "Processing Weather Data for Record 421 of Set 1 | karpathos\n",
      "Processing Weather Data for Record 422 of Set 1 | karratha\n",
      "Processing Weather Data for Record 423 of Set 1 | desaguadero\n",
      "Processing Weather Data for Record 424 of Set 1 | san quintin\n",
      "Processing Weather Data for Record 425 of Set 1 | pochinki\n",
      "Processing Weather Data for Record 426 of Set 1 | mogadouro\n",
      "Processing Weather Data for Record 427 of Set 1 | xunchang\n",
      "Processing Weather Data for Record 428 of Set 1 | olinda\n",
      "Processing Weather Data for Record 429 of Set 1 | owando\n",
      "Processing Weather Data for Record 430 of Set 1 | bokspits\n",
      "City not found...Skipping...\n",
      "Processing Weather Data for Record 430 of Set 1 | tres coracoes\n",
      "Processing Weather Data for Record 431 of Set 1 | wakkanai\n",
      "Processing Weather Data for Record 432 of Set 1 | faya\n",
      "City not found...Skipping...\n",
      "Processing Weather Data for Record 432 of Set 1 | rincon\n",
      "City not found...Skipping...\n",
      "Processing Weather Data for Record 432 of Set 1 | kutum\n",
      "Processing Weather Data for Record 433 of Set 1 | puerto leguizamo\n",
      "Processing Weather Data for Record 434 of Set 1 | alugan\n",
      "Processing Weather Data for Record 435 of Set 1 | los llanos de aridane\n",
      "Processing Weather Data for Record 436 of Set 1 | pandegelang\n",
      "Processing Weather Data for Record 437 of Set 1 | puerto escondido\n",
      "Processing Weather Data for Record 438 of Set 1 | collie\n",
      "Processing Weather Data for Record 439 of Set 1 | fort nelson\n",
      "Processing Weather Data for Record 440 of Set 1 | husavik\n",
      "Processing Weather Data for Record 441 of Set 1 | fevralsk\n",
      "City not found...Skipping...\n",
      "Processing Weather Data for Record 441 of Set 1 | miquelon\n",
      "Processing Weather Data for Record 442 of Set 1 | saldanha\n",
      "Processing Weather Data for Record 443 of Set 1 | arinos\n",
      "Processing Weather Data for Record 444 of Set 1 | hayden\n",
      "Processing Weather Data for Record 445 of Set 1 | tutoia\n",
      "Processing Weather Data for Record 446 of Set 1 | mmabatho\n",
      "Processing Weather Data for Record 447 of Set 1 | gra liyia\n",
      "Processing Weather Data for Record 448 of Set 1 | malindi\n",
      "Processing Weather Data for Record 449 of Set 1 | valley city\n",
      "Processing Weather Data for Record 450 of Set 1 | narsaq\n",
      "Processing Weather Data for Record 451 of Set 1 | vestmannaeyjar\n",
      "Processing Weather Data for Record 452 of Set 1 | pisco\n",
      "Processing Weather Data for Record 453 of Set 1 | maoming\n",
      "Processing Weather Data for Record 454 of Set 1 | oga\n",
      "City not found...Skipping...\n",
      "Processing Weather Data for Record 454 of Set 1 | marcovia\n",
      "Processing Weather Data for Record 455 of Set 1 | impfondo\n",
      "Processing Weather Data for Record 456 of Set 1 | buckeye\n",
      "Processing Weather Data for Record 457 of Set 1 | tautira\n",
      "Processing Weather Data for Record 458 of Set 1 | chilca\n",
      "Processing Weather Data for Record 459 of Set 1 | vitorino freire\n",
      "Processing Weather Data for Record 460 of Set 1 | tiznit\n",
      "Processing Weather Data for Record 461 of Set 1 | ukiah\n",
      "Processing Weather Data for Record 462 of Set 1 | norrtalje\n",
      "Processing Weather Data for Record 463 of Set 1 | ferkessedougou\n",
      "Processing Weather Data for Record 464 of Set 1 | defiance\n",
      "Processing Weather Data for Record 465 of Set 1 | mizan teferi\n",
      "Processing Weather Data for Record 466 of Set 1 | vittoria\n",
      "Processing Weather Data for Record 467 of Set 1 | bayevo\n",
      "Processing Weather Data for Record 468 of Set 1 | lodwar\n",
      "Processing Weather Data for Record 469 of Set 1 | taksimo\n",
      "Processing Weather Data for Record 470 of Set 1 | ijaki\n",
      "City not found...Skipping...\n",
      "Processing Weather Data for Record 470 of Set 1 | trabzon\n",
      "Processing Weather Data for Record 471 of Set 1 | saleaula\n",
      "City not found...Skipping...\n",
      "Processing Weather Data for Record 471 of Set 1 | bulanon\n",
      "Processing Weather Data for Record 472 of Set 1 | vagur\n",
      "Processing Weather Data for Record 473 of Set 1 | tikapur\n",
      "Processing Weather Data for Record 474 of Set 1 | vanimo\n",
      "Processing Weather Data for Record 475 of Set 1 | korla\n"
     ]
    },
    {
     "name": "stdout",
     "output_type": "stream",
     "text": [
      "Processing Weather Data for Record 476 of Set 1 | caravelas\n",
      "Processing Weather Data for Record 477 of Set 1 | beringovskiy\n",
      "Processing Weather Data for Record 478 of Set 1 | tochio\n",
      "Processing Weather Data for Record 479 of Set 1 | rio gallegos\n",
      "Processing Weather Data for Record 480 of Set 1 | praia da vitoria\n",
      "Processing Weather Data for Record 481 of Set 1 | portland\n",
      "Processing Weather Data for Record 482 of Set 1 | shimoda\n",
      "Processing Weather Data for Record 483 of Set 1 | springdale\n",
      "Processing Weather Data for Record 484 of Set 1 | bay saint louis\n",
      "Processing Weather Data for Record 485 of Set 1 | kurchatov\n",
      "Processing Weather Data for Record 486 of Set 1 | watsa\n",
      "Processing Weather Data for Record 487 of Set 1 | sai buri\n",
      "Processing Weather Data for Record 488 of Set 1 | hobyo\n",
      "Processing Weather Data for Record 489 of Set 1 | prieska\n",
      "Processing Weather Data for Record 490 of Set 1 | hambantota\n",
      "Processing Weather Data for Record 491 of Set 1 | pandan\n",
      "Processing Weather Data for Record 492 of Set 1 | anadyr\n",
      "Processing Weather Data for Record 493 of Set 1 | kuruman\n",
      "Processing Weather Data for Record 494 of Set 1 | kaitangata\n",
      "Processing Weather Data for Record 495 of Set 1 | morro bay\n",
      "Processing Weather Data for Record 496 of Set 1 | csepreg\n",
      "Processing Weather Data for Record 497 of Set 1 | matadi\n",
      "Processing Weather Data for Record 498 of Set 1 | beatrice\n",
      "Processing Weather Data for Record 499 of Set 1 | ugoofaaru\n",
      "Processing Weather Data for Record 500 of Set 1 | viedma\n",
      "Processing Weather Data for Record 501 of Set 1 | rylsk\n",
      "Processing Weather Data for Record 502 of Set 1 | bone\n",
      "Processing Weather Data for Record 503 of Set 1 | morondava\n",
      "Processing Weather Data for Record 504 of Set 1 | naze\n",
      "Processing Weather Data for Record 505 of Set 1 | sisimiut\n",
      "Processing Weather Data for Record 506 of Set 1 | boende\n",
      "Processing Weather Data for Record 507 of Set 1 | saint-gaudens\n",
      "Processing Weather Data for Record 508 of Set 1 | saint-jean-port-joli\n",
      "Processing Weather Data for Record 509 of Set 1 | nuuk\n",
      "Processing Weather Data for Record 510 of Set 1 | orleans\n",
      "Processing Weather Data for Record 511 of Set 1 | cayenne\n",
      "Processing Weather Data for Record 512 of Set 1 | araouane\n",
      "Processing Weather Data for Record 513 of Set 1 | illela\n",
      "Processing Weather Data for Record 514 of Set 1 | sistranda\n",
      "Processing Weather Data for Record 515 of Set 1 | fuling\n",
      "Processing Weather Data for Record 516 of Set 1 | plakhtiyivka\n",
      "Processing Weather Data for Record 517 of Set 1 | louisbourg\n",
      "City not found...Skipping...\n",
      "Processing Weather Data for Record 517 of Set 1 | lae\n",
      "Processing Weather Data for Record 518 of Set 1 | gat\n",
      "City not found...Skipping...\n",
      "Processing Weather Data for Record 518 of Set 1 | juodupe\n",
      "Processing Weather Data for Record 519 of Set 1 | samarai\n",
      "Processing Weather Data for Record 520 of Set 1 | tapaua\n",
      "City not found...Skipping...\n",
      "Processing Weather Data for Record 520 of Set 1 | dawei\n",
      "Processing Weather Data for Record 521 of Set 1 | maningrida\n",
      "Processing Weather Data for Record 522 of Set 1 | gornopravdinsk\n",
      "Processing Weather Data for Record 523 of Set 1 | sobolevo\n",
      "Processing Weather Data for Record 524 of Set 1 | nambucca heads\n",
      "Processing Weather Data for Record 525 of Set 1 | umm lajj\n",
      "Processing Weather Data for Record 526 of Set 1 | tsihombe\n",
      "City not found...Skipping...\n",
      "Processing Weather Data for Record 526 of Set 1 | geraldton\n",
      "Processing Weather Data for Record 527 of Set 1 | tumannyy\n",
      "City not found...Skipping...\n",
      "Processing Weather Data for Record 527 of Set 1 | kuopio\n",
      "Processing Weather Data for Record 528 of Set 1 | kazachinskoye\n",
      "Processing Weather Data for Record 529 of Set 1 | rocha\n",
      "Processing Weather Data for Record 530 of Set 1 | te anau\n",
      "Processing Weather Data for Record 531 of Set 1 | nizhnevartovsk\n",
      "Processing Weather Data for Record 532 of Set 1 | khuzhir\n",
      "Processing Weather Data for Record 533 of Set 1 | rulenge\n",
      "Processing Weather Data for Record 534 of Set 1 | leshukonskoye\n",
      "Processing Weather Data for Record 535 of Set 1 | buin\n",
      "City not found...Skipping...\n",
      "Processing Weather Data for Record 535 of Set 1 | pochutla\n",
      "Processing Weather Data for Record 536 of Set 1 | maltahohe\n",
      "Processing Weather Data for Record 537 of Set 1 | zachagansk\n",
      "City not found...Skipping...\n",
      "Processing Weather Data for Record 537 of Set 1 | faanui\n",
      "Processing Weather Data for Record 538 of Set 1 | palmer\n",
      "Processing Weather Data for Record 539 of Set 1 | havoysund\n",
      "-------------------------------\n",
      "Data Retrieval Complete\n",
      "-------------------------------\n"
     ]
    }
   ],
   "source": [
    "# Create variables to track response number\n",
    "rec_num = 1\n",
    "set_num = 1\n",
    "\n",
    "#Run the API call for each city\n",
    "print (\"Beginning Data Retrieval\")\n",
    "print (\"-----------------------------\")\n",
    "\n",
    "for index, row in weather_df.iterrows(): \n",
    "    \n",
    "    #Create the query url for the API call\n",
    "    query_url = url + row['City'] + ',' + row['Country'] + '&units=' + units + '&APPID=' + weather_key\n",
    "    \n",
    "    # Call API\n",
    "    response = requests.get(query_url).json()\n",
    "    \n",
    "    # Exception if city not found\n",
    "    try:\n",
    "        #Retrieval message\n",
    "        print(f\"Processing Weather Data for Record {rec_num} of Set {set_num} | {row['City']}\")\n",
    "       \n",
    "        # Add the data to weather_df\n",
    "        weather_df.loc[index, 'Cloudiness'] = response['clouds']['all']\n",
    "        weather_df.loc[index, 'Date'] = response['dt']\n",
    "        weather_df.loc[index, 'Humidity'] = response['main']['humidity']\n",
    "        weather_df.loc[index, 'Lat'] = response['coord']['lat']\n",
    "        weather_df.loc[index, 'Lng'] = response['coord']['lon']\n",
    "        weather_df.loc[index, 'Max Temp'] = response['main']['temp_max']\n",
    "        weather_df.loc[index, 'Windspeed'] = response['wind']['speed']\n",
    "        \n",
    "        #Increase the record count\n",
    "        rec_num += 1\n",
    "\n",
    "   \n",
    "    except:\n",
    "        print(\"City not found...Skipping...\")\n",
    "\n",
    "print(\"-------------------------------\")        \n",
    "print(\"Data Retrieval Complete\")\n",
    "print(\"-------------------------------\")"
   ]
  },
  {
   "cell_type": "code",
   "execution_count": 6,
   "metadata": {
    "scrolled": true
   },
   "outputs": [
    {
     "data": {
      "text/html": [
       "<div>\n",
       "<style scoped>\n",
       "    .dataframe tbody tr th:only-of-type {\n",
       "        vertical-align: middle;\n",
       "    }\n",
       "\n",
       "    .dataframe tbody tr th {\n",
       "        vertical-align: top;\n",
       "    }\n",
       "\n",
       "    .dataframe thead th {\n",
       "        text-align: right;\n",
       "    }\n",
       "</style>\n",
       "<table border=\"1\" class=\"dataframe\">\n",
       "  <thead>\n",
       "    <tr style=\"text-align: right;\">\n",
       "      <th></th>\n",
       "      <th>City</th>\n",
       "      <th>Cloudiness</th>\n",
       "      <th>Country</th>\n",
       "      <th>Date</th>\n",
       "      <th>Humidity</th>\n",
       "      <th>Lat</th>\n",
       "      <th>Lng</th>\n",
       "      <th>Max Temp</th>\n",
       "      <th>Windspeed</th>\n",
       "    </tr>\n",
       "  </thead>\n",
       "  <tbody>\n",
       "    <tr>\n",
       "      <td>0</td>\n",
       "      <td>catuday</td>\n",
       "      <td>61</td>\n",
       "      <td>PH</td>\n",
       "      <td>1584246891</td>\n",
       "      <td>80</td>\n",
       "      <td>16.29</td>\n",
       "      <td>119.81</td>\n",
       "      <td>79.61</td>\n",
       "      <td>15.79</td>\n",
       "    </tr>\n",
       "    <tr>\n",
       "      <td>1</td>\n",
       "      <td>silikatnyy</td>\n",
       "      <td>90</td>\n",
       "      <td>RU</td>\n",
       "      <td>1584246891</td>\n",
       "      <td>100</td>\n",
       "      <td>53.99</td>\n",
       "      <td>48.33</td>\n",
       "      <td>33.8</td>\n",
       "      <td>6.71</td>\n",
       "    </tr>\n",
       "    <tr>\n",
       "      <td>2</td>\n",
       "      <td>georgetown</td>\n",
       "      <td>100</td>\n",
       "      <td>SH</td>\n",
       "      <td>1584246891</td>\n",
       "      <td>75</td>\n",
       "      <td>-7.93</td>\n",
       "      <td>-14.42</td>\n",
       "      <td>79.74</td>\n",
       "      <td>15.66</td>\n",
       "    </tr>\n",
       "    <tr>\n",
       "      <td>3</td>\n",
       "      <td>rikitea</td>\n",
       "      <td>3</td>\n",
       "      <td>PF</td>\n",
       "      <td>1584246891</td>\n",
       "      <td>71</td>\n",
       "      <td>-23.12</td>\n",
       "      <td>-134.97</td>\n",
       "      <td>78.84</td>\n",
       "      <td>9.75</td>\n",
       "    </tr>\n",
       "    <tr>\n",
       "      <td>4</td>\n",
       "      <td>tromso</td>\n",
       "      <td>75</td>\n",
       "      <td>NO</td>\n",
       "      <td>1584246667</td>\n",
       "      <td>86</td>\n",
       "      <td>69.65</td>\n",
       "      <td>18.96</td>\n",
       "      <td>33.8</td>\n",
       "      <td>35.57</td>\n",
       "    </tr>\n",
       "  </tbody>\n",
       "</table>\n",
       "</div>"
      ],
      "text/plain": [
       "         City Cloudiness Country        Date Humidity    Lat     Lng Max Temp  \\\n",
       "0     catuday         61      PH  1584246891       80  16.29  119.81    79.61   \n",
       "1  silikatnyy         90      RU  1584246891      100  53.99   48.33     33.8   \n",
       "2  georgetown        100      SH  1584246891       75  -7.93  -14.42    79.74   \n",
       "3     rikitea          3      PF  1584246891       71 -23.12 -134.97    78.84   \n",
       "4      tromso         75      NO  1584246667       86  69.65   18.96     33.8   \n",
       "\n",
       "  Windspeed  \n",
       "0     15.79  \n",
       "1      6.71  \n",
       "2     15.66  \n",
       "3      9.75  \n",
       "4     35.57  "
      ]
     },
     "execution_count": 6,
     "metadata": {},
     "output_type": "execute_result"
    }
   ],
   "source": [
    "weather_df.head()"
   ]
  },
  {
   "cell_type": "markdown",
   "metadata": {},
   "source": [
    "### Convert Raw Data to DataFrame\n",
    "* Export the city data into a .csv.\n",
    "* Display the DataFrame"
   ]
  },
  {
   "cell_type": "code",
   "execution_count": 7,
   "metadata": {},
   "outputs": [],
   "source": [
    "weather_df['Lat'] = pd.to_numeric(weather_df['Lat'])\n",
    "weather_df['Lng'] = pd.to_numeric(weather_df['Lng'])\n",
    "weather_df['Max Temp'] = pd.to_numeric(weather_df['Max Temp'])\n",
    "weather_df['Humidity'] = pd.to_numeric(weather_df['Humidity'])\n",
    "weather_df['Cloudiness'] = pd.to_numeric(weather_df['Cloudiness'])\n",
    "weather_df['Windspeed'] = pd.to_numeric(weather_df['Windspeed'])"
   ]
  },
  {
   "cell_type": "code",
   "execution_count": 8,
   "metadata": {},
   "outputs": [
    {
     "data": {
      "text/html": [
       "<div>\n",
       "<style scoped>\n",
       "    .dataframe tbody tr th:only-of-type {\n",
       "        vertical-align: middle;\n",
       "    }\n",
       "\n",
       "    .dataframe tbody tr th {\n",
       "        vertical-align: top;\n",
       "    }\n",
       "\n",
       "    .dataframe thead th {\n",
       "        text-align: right;\n",
       "    }\n",
       "</style>\n",
       "<table border=\"1\" class=\"dataframe\">\n",
       "  <thead>\n",
       "    <tr style=\"text-align: right;\">\n",
       "      <th></th>\n",
       "      <th>City</th>\n",
       "      <th>Cloudiness</th>\n",
       "      <th>Country</th>\n",
       "      <th>Date</th>\n",
       "      <th>Humidity</th>\n",
       "      <th>Lat</th>\n",
       "      <th>Lng</th>\n",
       "      <th>Max Temp</th>\n",
       "      <th>Windspeed</th>\n",
       "    </tr>\n",
       "  </thead>\n",
       "  <tbody>\n",
       "    <tr>\n",
       "      <td>0</td>\n",
       "      <td>catuday</td>\n",
       "      <td>61.0</td>\n",
       "      <td>PH</td>\n",
       "      <td>1584246891</td>\n",
       "      <td>80.0</td>\n",
       "      <td>16.29</td>\n",
       "      <td>119.81</td>\n",
       "      <td>79.61</td>\n",
       "      <td>15.79</td>\n",
       "    </tr>\n",
       "    <tr>\n",
       "      <td>1</td>\n",
       "      <td>silikatnyy</td>\n",
       "      <td>90.0</td>\n",
       "      <td>RU</td>\n",
       "      <td>1584246891</td>\n",
       "      <td>100.0</td>\n",
       "      <td>53.99</td>\n",
       "      <td>48.33</td>\n",
       "      <td>33.80</td>\n",
       "      <td>6.71</td>\n",
       "    </tr>\n",
       "    <tr>\n",
       "      <td>2</td>\n",
       "      <td>georgetown</td>\n",
       "      <td>100.0</td>\n",
       "      <td>SH</td>\n",
       "      <td>1584246891</td>\n",
       "      <td>75.0</td>\n",
       "      <td>-7.93</td>\n",
       "      <td>-14.42</td>\n",
       "      <td>79.74</td>\n",
       "      <td>15.66</td>\n",
       "    </tr>\n",
       "    <tr>\n",
       "      <td>3</td>\n",
       "      <td>rikitea</td>\n",
       "      <td>3.0</td>\n",
       "      <td>PF</td>\n",
       "      <td>1584246891</td>\n",
       "      <td>71.0</td>\n",
       "      <td>-23.12</td>\n",
       "      <td>-134.97</td>\n",
       "      <td>78.84</td>\n",
       "      <td>9.75</td>\n",
       "    </tr>\n",
       "    <tr>\n",
       "      <td>4</td>\n",
       "      <td>tromso</td>\n",
       "      <td>75.0</td>\n",
       "      <td>NO</td>\n",
       "      <td>1584246667</td>\n",
       "      <td>86.0</td>\n",
       "      <td>69.65</td>\n",
       "      <td>18.96</td>\n",
       "      <td>33.80</td>\n",
       "      <td>35.57</td>\n",
       "    </tr>\n",
       "  </tbody>\n",
       "</table>\n",
       "</div>"
      ],
      "text/plain": [
       "         City  Cloudiness Country        Date  Humidity    Lat     Lng  \\\n",
       "0     catuday        61.0      PH  1584246891      80.0  16.29  119.81   \n",
       "1  silikatnyy        90.0      RU  1584246891     100.0  53.99   48.33   \n",
       "2  georgetown       100.0      SH  1584246891      75.0  -7.93  -14.42   \n",
       "3     rikitea         3.0      PF  1584246891      71.0 -23.12 -134.97   \n",
       "4      tromso        75.0      NO  1584246667      86.0  69.65   18.96   \n",
       "\n",
       "   Max Temp  Windspeed  \n",
       "0     79.61      15.79  \n",
       "1     33.80       6.71  \n",
       "2     79.74      15.66  \n",
       "3     78.84       9.75  \n",
       "4     33.80      35.57  "
      ]
     },
     "execution_count": 8,
     "metadata": {},
     "output_type": "execute_result"
    }
   ],
   "source": [
    "weather_df.head()"
   ]
  },
  {
   "cell_type": "code",
   "execution_count": 9,
   "metadata": {},
   "outputs": [],
   "source": [
    "# Remove cities that were not found\n",
    "weather_df['Date'] = weather_df['Date'].replace('', np.nan)\n",
    "weather_df = weather_df.dropna()\n",
    "\n",
    "# Export city data to csv\n",
    "weather_df.to_csv(\"WeatherData.csv\", encoding=\"utf-8\", index=False, header=True)"
   ]
  },
  {
   "cell_type": "code",
   "execution_count": 10,
   "metadata": {
    "scrolled": true
   },
   "outputs": [
    {
     "data": {
      "text/html": [
       "<div>\n",
       "<style scoped>\n",
       "    .dataframe tbody tr th:only-of-type {\n",
       "        vertical-align: middle;\n",
       "    }\n",
       "\n",
       "    .dataframe tbody tr th {\n",
       "        vertical-align: top;\n",
       "    }\n",
       "\n",
       "    .dataframe thead th {\n",
       "        text-align: right;\n",
       "    }\n",
       "</style>\n",
       "<table border=\"1\" class=\"dataframe\">\n",
       "  <thead>\n",
       "    <tr style=\"text-align: right;\">\n",
       "      <th></th>\n",
       "      <th>City</th>\n",
       "      <th>Cloudiness</th>\n",
       "      <th>Country</th>\n",
       "      <th>Date</th>\n",
       "      <th>Humidity</th>\n",
       "      <th>Lat</th>\n",
       "      <th>Lng</th>\n",
       "      <th>Max Temp</th>\n",
       "      <th>Windspeed</th>\n",
       "    </tr>\n",
       "  </thead>\n",
       "  <tbody>\n",
       "    <tr>\n",
       "      <td>0</td>\n",
       "      <td>catuday</td>\n",
       "      <td>61.0</td>\n",
       "      <td>PH</td>\n",
       "      <td>1.584247e+09</td>\n",
       "      <td>80.0</td>\n",
       "      <td>16.29</td>\n",
       "      <td>119.81</td>\n",
       "      <td>79.61</td>\n",
       "      <td>15.79</td>\n",
       "    </tr>\n",
       "    <tr>\n",
       "      <td>1</td>\n",
       "      <td>silikatnyy</td>\n",
       "      <td>90.0</td>\n",
       "      <td>RU</td>\n",
       "      <td>1.584247e+09</td>\n",
       "      <td>100.0</td>\n",
       "      <td>53.99</td>\n",
       "      <td>48.33</td>\n",
       "      <td>33.80</td>\n",
       "      <td>6.71</td>\n",
       "    </tr>\n",
       "    <tr>\n",
       "      <td>2</td>\n",
       "      <td>georgetown</td>\n",
       "      <td>100.0</td>\n",
       "      <td>SH</td>\n",
       "      <td>1.584247e+09</td>\n",
       "      <td>75.0</td>\n",
       "      <td>-7.93</td>\n",
       "      <td>-14.42</td>\n",
       "      <td>79.74</td>\n",
       "      <td>15.66</td>\n",
       "    </tr>\n",
       "    <tr>\n",
       "      <td>3</td>\n",
       "      <td>rikitea</td>\n",
       "      <td>3.0</td>\n",
       "      <td>PF</td>\n",
       "      <td>1.584247e+09</td>\n",
       "      <td>71.0</td>\n",
       "      <td>-23.12</td>\n",
       "      <td>-134.97</td>\n",
       "      <td>78.84</td>\n",
       "      <td>9.75</td>\n",
       "    </tr>\n",
       "    <tr>\n",
       "      <td>4</td>\n",
       "      <td>tromso</td>\n",
       "      <td>75.0</td>\n",
       "      <td>NO</td>\n",
       "      <td>1.584247e+09</td>\n",
       "      <td>86.0</td>\n",
       "      <td>69.65</td>\n",
       "      <td>18.96</td>\n",
       "      <td>33.80</td>\n",
       "      <td>35.57</td>\n",
       "    </tr>\n",
       "    <tr>\n",
       "      <td>...</td>\n",
       "      <td>...</td>\n",
       "      <td>...</td>\n",
       "      <td>...</td>\n",
       "      <td>...</td>\n",
       "      <td>...</td>\n",
       "      <td>...</td>\n",
       "      <td>...</td>\n",
       "      <td>...</td>\n",
       "      <td>...</td>\n",
       "    </tr>\n",
       "    <tr>\n",
       "      <td>595</td>\n",
       "      <td>pochutla</td>\n",
       "      <td>40.0</td>\n",
       "      <td>MX</td>\n",
       "      <td>1.584247e+09</td>\n",
       "      <td>83.0</td>\n",
       "      <td>15.74</td>\n",
       "      <td>-96.47</td>\n",
       "      <td>82.40</td>\n",
       "      <td>4.70</td>\n",
       "    </tr>\n",
       "    <tr>\n",
       "      <td>596</td>\n",
       "      <td>maltahohe</td>\n",
       "      <td>0.0</td>\n",
       "      <td>NA</td>\n",
       "      <td>1.584247e+09</td>\n",
       "      <td>28.0</td>\n",
       "      <td>-24.83</td>\n",
       "      <td>16.98</td>\n",
       "      <td>69.06</td>\n",
       "      <td>10.27</td>\n",
       "    </tr>\n",
       "    <tr>\n",
       "      <td>598</td>\n",
       "      <td>faanui</td>\n",
       "      <td>12.0</td>\n",
       "      <td>PF</td>\n",
       "      <td>1.584247e+09</td>\n",
       "      <td>77.0</td>\n",
       "      <td>-16.48</td>\n",
       "      <td>-151.75</td>\n",
       "      <td>82.90</td>\n",
       "      <td>11.43</td>\n",
       "    </tr>\n",
       "    <tr>\n",
       "      <td>599</td>\n",
       "      <td>palmer</td>\n",
       "      <td>90.0</td>\n",
       "      <td>US</td>\n",
       "      <td>1.584247e+09</td>\n",
       "      <td>51.0</td>\n",
       "      <td>42.16</td>\n",
       "      <td>-72.33</td>\n",
       "      <td>41.00</td>\n",
       "      <td>3.36</td>\n",
       "    </tr>\n",
       "    <tr>\n",
       "      <td>600</td>\n",
       "      <td>havoysund</td>\n",
       "      <td>100.0</td>\n",
       "      <td>NO</td>\n",
       "      <td>1.584247e+09</td>\n",
       "      <td>92.0</td>\n",
       "      <td>71.00</td>\n",
       "      <td>24.66</td>\n",
       "      <td>24.80</td>\n",
       "      <td>5.82</td>\n",
       "    </tr>\n",
       "  </tbody>\n",
       "</table>\n",
       "<p>539 rows × 9 columns</p>\n",
       "</div>"
      ],
      "text/plain": [
       "           City  Cloudiness Country          Date  Humidity    Lat     Lng  \\\n",
       "0       catuday        61.0      PH  1.584247e+09      80.0  16.29  119.81   \n",
       "1    silikatnyy        90.0      RU  1.584247e+09     100.0  53.99   48.33   \n",
       "2    georgetown       100.0      SH  1.584247e+09      75.0  -7.93  -14.42   \n",
       "3       rikitea         3.0      PF  1.584247e+09      71.0 -23.12 -134.97   \n",
       "4        tromso        75.0      NO  1.584247e+09      86.0  69.65   18.96   \n",
       "..          ...         ...     ...           ...       ...    ...     ...   \n",
       "595    pochutla        40.0      MX  1.584247e+09      83.0  15.74  -96.47   \n",
       "596   maltahohe         0.0      NA  1.584247e+09      28.0 -24.83   16.98   \n",
       "598      faanui        12.0      PF  1.584247e+09      77.0 -16.48 -151.75   \n",
       "599      palmer        90.0      US  1.584247e+09      51.0  42.16  -72.33   \n",
       "600   havoysund       100.0      NO  1.584247e+09      92.0  71.00   24.66   \n",
       "\n",
       "     Max Temp  Windspeed  \n",
       "0       79.61      15.79  \n",
       "1       33.80       6.71  \n",
       "2       79.74      15.66  \n",
       "3       78.84       9.75  \n",
       "4       33.80      35.57  \n",
       "..        ...        ...  \n",
       "595     82.40       4.70  \n",
       "596     69.06      10.27  \n",
       "598     82.90      11.43  \n",
       "599     41.00       3.36  \n",
       "600     24.80       5.82  \n",
       "\n",
       "[539 rows x 9 columns]"
      ]
     },
     "execution_count": 10,
     "metadata": {},
     "output_type": "execute_result"
    }
   ],
   "source": [
    "# Display the dataframe\n",
    "weather_df"
   ]
  },
  {
   "cell_type": "markdown",
   "metadata": {},
   "source": [
    "### Plotting the Data\n",
    "* Use proper labeling of the plots using plot titles (including date of analysis) and axes labels.\n",
    "* Save the plotted figures as .pngs."
   ]
  },
  {
   "cell_type": "markdown",
   "metadata": {},
   "source": [
    "#### Latitude vs. Temperature Plot"
   ]
  },
  {
   "cell_type": "code",
   "execution_count": 11,
   "metadata": {
    "scrolled": true
   },
   "outputs": [
    {
     "data": {
      "image/png": "[encoded data removed]",
      "text/plain": [
       "<Figure size 432x288 with 1 Axes>"
      ]
     },
     "metadata": {
      "needs_background": "light"
     },
     "output_type": "display_data"
    }
   ],
   "source": [
    "# Lat vs. Temp scatter plot\n",
    "plt.scatter(weather_df[\"Lat\"], weather_df[\"Max Temp\"], marker=\"o\")\n",
    "\n",
    "# Format plot\n",
    "plt.title(\"City Latitude vs. Max Temperature\")\n",
    "plt.ylabel(\"Max Temperature (F)\")\n",
    "plt.xlabel(\"Latitude\")\n",
    "plt.grid(True)\n",
    "\n",
    "# Save plotted figure\n",
    "plt.savefig(\"City Latitude vs. Max Temperature.png\")\n",
    "\n",
    "# Show plot\n",
    "plt.show()"
   ]
  },
  {
   "cell_type": "markdown",
   "metadata": {},
   "source": [
    "The plot depicts that the closer a city is to the equator, the higher its max temperature appears to be. In contrast, the further a city is located from the equator, the lower its max temperature."
   ]
  },
  {
   "cell_type": "markdown",
   "metadata": {},
   "source": [
    "#### Latitude vs. Humidity Plot"
   ]
  },
  {
   "cell_type": "code",
   "execution_count": 12,
   "metadata": {},
   "outputs": [
    {
     "data": {
      "image/png": "[encoded data removed]",
      "text/plain": [
       "<Figure size 432x288 with 1 Axes>"
      ]
     },
     "metadata": {
      "needs_background": "light"
     },
     "output_type": "display_data"
    }
   ],
   "source": [
    "# Lat vs. Humidity scatter plot\n",
    "plt.scatter(weather_df[\"Lat\"], weather_df[\"Humidity\"], marker=\"o\")\n",
    "\n",
    "# Format plot\n",
    "plt.title(\"City Latitude vs. Humidity\")\n",
    "plt.ylabel(\"Humidity (%)\")\n",
    "plt.xlabel(\"Latitude\")\n",
    "plt.grid(True)\n",
    "\n",
    "# Save plotted figure\n",
    "plt.savefig(\"City Latitude vs. Humidity.png\")\n",
    "\n",
    "# Show plot\n",
    "plt.show()"
   ]
  },
  {
   "cell_type": "markdown",
   "metadata": {},
   "source": [
    "There does not seem to be much of a relationship between a city's latitude and its humidity percentage. However, there appears to be a very slight decrease in humidity as latitude reaches 20-60 degrees."
   ]
  },
  {
   "cell_type": "markdown",
   "metadata": {},
   "source": [
    "#### Latitude vs. Cloudiness Plot"
   ]
  },
  {
   "cell_type": "code",
   "execution_count": 13,
   "metadata": {},
   "outputs": [
    {
     "data": {
      "image/png": "[encoded data removed]",
      "text/plain": [
       "<Figure size 432x288 with 1 Axes>"
      ]
     },
     "metadata": {
      "needs_background": "light"
     },
     "output_type": "display_data"
    }
   ],
   "source": [
    "# Lat vs. Cloudiness scatter plot\n",
    "plt.scatter(weather_df[\"Lat\"], weather_df[\"Cloudiness\"], marker=\"o\")\n",
    "\n",
    "# Format plot\n",
    "plt.title(\"City Latitude vs. Cloudiness\")\n",
    "plt.ylabel(\"Cloudiness (%)\")\n",
    "plt.xlabel(\"Latitude\")\n",
    "plt.grid(True)\n",
    "\n",
    "# Save plotted figure\n",
    "plt.savefig(\"City Latitude vs. Cloudiness.png\")\n",
    "\n",
    "# Show plot\n",
    "plt.show()"
   ]
  },
  {
   "cell_type": "markdown",
   "metadata": {},
   "source": [
    "There does not appear to be a relationship between a city's latitude and its percentage of cloudiness."
   ]
  },
  {
   "cell_type": "markdown",
   "metadata": {},
   "source": [
    "#### Latitude vs. Wind Speed Plot"
   ]
  },
  {
   "cell_type": "code",
   "execution_count": 14,
   "metadata": {},
   "outputs": [
    {
     "data": {
      "image/png": "[encoded data removed]",
      "text/plain": [
       "<Figure size 432x288 with 1 Axes>"
      ]
     },
     "metadata": {
      "needs_background": "light"
     },
     "output_type": "display_data"
    }
   ],
   "source": [
    "# Lat vs. Wind Speed plot\n",
    "plt.scatter(weather_df[\"Lat\"], weather_df[\"Windspeed\"], marker=\"o\")\n",
    "\n",
    "# Format plot\n",
    "plt.title(\"City Latitude vs. Wind Speed\")\n",
    "plt.ylabel(\"Wind Speed (mph)\")\n",
    "plt.xlabel(\"Latitude\")\n",
    "plt.grid(True)\n",
    "\n",
    "# Save plotted figure\n",
    "plt.savefig(\"City Latitude vs. Wind Speed.png\")\n",
    "\n",
    "# Show plot\n",
    "plt.show()"
   ]
  },
  {
   "cell_type": "markdown",
   "metadata": {},
   "source": [
    "There does not appear to be a relationship between city latitude and wind speed. "
   ]
  },
  {
   "cell_type": "markdown",
   "metadata": {},
   "source": [
    "## Linear Regression"
   ]
  },
  {
   "cell_type": "code",
   "execution_count": 11,
   "metadata": {},
   "outputs": [],
   "source": [
    "# Create Northern and Southern Hemisphere DataFrames\n",
    "n_hem = weather_df.loc[weather_df[\"Lat\"] >= 0]\n",
    "\n",
    "s_hem = weather_df.loc[weather_df[\"Lat\"] < 0]"
   ]
  },
  {
   "cell_type": "code",
   "execution_count": 12,
   "metadata": {},
   "outputs": [
    {
     "data": {
      "text/html": [
       "<div>\n",
       "<style scoped>\n",
       "    .dataframe tbody tr th:only-of-type {\n",
       "        vertical-align: middle;\n",
       "    }\n",
       "\n",
       "    .dataframe tbody tr th {\n",
       "        vertical-align: top;\n",
       "    }\n",
       "\n",
       "    .dataframe thead th {\n",
       "        text-align: right;\n",
       "    }\n",
       "</style>\n",
       "<table border=\"1\" class=\"dataframe\">\n",
       "  <thead>\n",
       "    <tr style=\"text-align: right;\">\n",
       "      <th></th>\n",
       "      <th>City</th>\n",
       "      <th>Cloudiness</th>\n",
       "      <th>Country</th>\n",
       "      <th>Date</th>\n",
       "      <th>Humidity</th>\n",
       "      <th>Lat</th>\n",
       "      <th>Lng</th>\n",
       "      <th>Max Temp</th>\n",
       "      <th>Windspeed</th>\n",
       "    </tr>\n",
       "  </thead>\n",
       "  <tbody>\n",
       "    <tr>\n",
       "      <td>0</td>\n",
       "      <td>catuday</td>\n",
       "      <td>61.0</td>\n",
       "      <td>PH</td>\n",
       "      <td>1.584247e+09</td>\n",
       "      <td>80.0</td>\n",
       "      <td>16.29</td>\n",
       "      <td>119.81</td>\n",
       "      <td>79.61</td>\n",
       "      <td>15.79</td>\n",
       "    </tr>\n",
       "    <tr>\n",
       "      <td>1</td>\n",
       "      <td>silikatnyy</td>\n",
       "      <td>90.0</td>\n",
       "      <td>RU</td>\n",
       "      <td>1.584247e+09</td>\n",
       "      <td>100.0</td>\n",
       "      <td>53.99</td>\n",
       "      <td>48.33</td>\n",
       "      <td>33.80</td>\n",
       "      <td>6.71</td>\n",
       "    </tr>\n",
       "    <tr>\n",
       "      <td>4</td>\n",
       "      <td>tromso</td>\n",
       "      <td>75.0</td>\n",
       "      <td>NO</td>\n",
       "      <td>1.584247e+09</td>\n",
       "      <td>86.0</td>\n",
       "      <td>69.65</td>\n",
       "      <td>18.96</td>\n",
       "      <td>33.80</td>\n",
       "      <td>35.57</td>\n",
       "    </tr>\n",
       "    <tr>\n",
       "      <td>6</td>\n",
       "      <td>cheyenne</td>\n",
       "      <td>90.0</td>\n",
       "      <td>US</td>\n",
       "      <td>1.584247e+09</td>\n",
       "      <td>100.0</td>\n",
       "      <td>41.14</td>\n",
       "      <td>-104.82</td>\n",
       "      <td>32.00</td>\n",
       "      <td>10.38</td>\n",
       "    </tr>\n",
       "    <tr>\n",
       "      <td>7</td>\n",
       "      <td>nanortalik</td>\n",
       "      <td>100.0</td>\n",
       "      <td>GL</td>\n",
       "      <td>1.584247e+09</td>\n",
       "      <td>93.0</td>\n",
       "      <td>60.14</td>\n",
       "      <td>-45.24</td>\n",
       "      <td>22.73</td>\n",
       "      <td>7.27</td>\n",
       "    </tr>\n",
       "  </tbody>\n",
       "</table>\n",
       "</div>"
      ],
      "text/plain": [
       "         City  Cloudiness Country          Date  Humidity    Lat     Lng  \\\n",
       "0     catuday        61.0      PH  1.584247e+09      80.0  16.29  119.81   \n",
       "1  silikatnyy        90.0      RU  1.584247e+09     100.0  53.99   48.33   \n",
       "4      tromso        75.0      NO  1.584247e+09      86.0  69.65   18.96   \n",
       "6    cheyenne        90.0      US  1.584247e+09     100.0  41.14 -104.82   \n",
       "7  nanortalik       100.0      GL  1.584247e+09      93.0  60.14  -45.24   \n",
       "\n",
       "   Max Temp  Windspeed  \n",
       "0     79.61      15.79  \n",
       "1     33.80       6.71  \n",
       "4     33.80      35.57  \n",
       "6     32.00      10.38  \n",
       "7     22.73       7.27  "
      ]
     },
     "execution_count": 12,
     "metadata": {},
     "output_type": "execute_result"
    }
   ],
   "source": [
    "n_hem.head()"
   ]
  },
  {
   "cell_type": "code",
   "execution_count": 58,
   "metadata": {},
   "outputs": [],
   "source": [
    "#Northern Hemisphere - Temperature (F) vs. Latitude\n",
    "\n",
    "def plot_regression(x_vals,y_vals,xlabel,ylabel,labelpos,ifig):\n",
    "\n",
    "    (slope, intercept, rvalue, pvalue, stderr) = linregress(x_vals, y_vals)\n",
    "    \n",
    "    print(f\"The r-squared is: {rvalue}\")\n",
    "    \n",
    "    line_eq = \"y = \" + str(round(slope,2)) + \"x + \" + str(round(intercept,2))\n",
    "    regress_values = x_vals * slope + intercept\n",
    "    \n",
    "    plt.scatter(x_vals,y_vals)\n",
    "    plt.plot(x_vals,regress_values,\"r-\")\n",
    "    plt.annotate(line_eq,labelpos,fontsize=15,color=\"red\")\n",
    "    plt.xlabel(xlabel)\n",
    "    plt.ylabel(ylabel)\n",
    "    plt.title(ifig)\n",
    "    #plt.savefig(f\"output/WeatherPyImages/fig{ifig}.png\")\n",
    "    plt.show()\n",
    "    "
   ]
  },
  {
   "cell_type": "markdown",
   "metadata": {},
   "source": [
    "####  Northern Hemisphere - Max Temp vs. Latitude Linear Regression"
   ]
  },
  {
   "cell_type": "code",
   "execution_count": 59,
   "metadata": {
    "scrolled": true
   },
   "outputs": [
    {
     "name": "stdout",
     "output_type": "stream",
     "text": [
      "The r-squared is: -0.8998352803691094\n"
     ]
    },
    {
     "data": {
      "image/png": "[encoded data removed]",
      "text/plain": [
       "<Figure size 432x288 with 1 Axes>"
      ]
     },
     "metadata": {
      "needs_background": "light"
     },
     "output_type": "display_data"
    }
   ],
   "source": [
    "# Northern Hemisphere - Max Temp vs. Lat\n",
    "xlabel = \"Lat\"\n",
    "ylabel = \"Max Temp\"\n",
    "labelpos = (0,25)\n",
    "ifig=\"Northern Hemisphere - Max Temp vs. Latitude (3/14/20)\"\n",
    "#plt.savefig(\"\n",
    "plot_regression(n_hem[xlabel], n_hem[ylabel], xlabel, ylabel, labelpos, ifig)"
   ]
  },
  {
   "cell_type": "markdown",
   "metadata": {},
   "source": [
    "####  Southern Hemisphere - Max Temp vs. Latitude Linear Regression"
   ]
  },
  {
   "cell_type": "code",
   "execution_count": 29,
   "metadata": {},
   "outputs": [
    {
     "name": "stdout",
     "output_type": "stream",
     "text": [
      "The r-squared is: 0.5512085021201765\n"
     ]
    },
    {
     "data": {
      "image/png": "[encoded data removed]",
      "text/plain": [
       "<Figure size 432x288 with 1 Axes>"
      ]
     },
     "metadata": {
      "needs_background": "light"
     },
     "output_type": "display_data"
    }
   ],
   "source": [
    "# Southern Hemisphere - Max Temp vs. Lat\n",
    "xlabel = \"Lat\"\n",
    "ylabel = \"Max Temp\"\n",
    "labelpos = (-50,90)\n",
    "ifig=\"Southern Hemisphere - Max Temp vs. Latitude (3/14/20)\"\n",
    "plot_regression(s_hem[xlabel], s_hem[ylabel], xlabel, ylabel, labelpos, ifig) "
   ]
  },
  {
   "cell_type": "markdown",
   "metadata": {},
   "source": [
    "After running the linear regression for Maximum Temperature vs. Latitude for each hemisphere, the models and plots show that cities located in the Northern Hemisphere have a strong negative correlation between max temp and latitude. However, cities located in the Southern Hemisphere have a moderate positive correlation between max temp and latitude. For both hemispheres, the data depicts that the closer a city's latitude is to the equator, the higher its maximum temperature.\n"
   ]
  },
  {
   "cell_type": "markdown",
   "metadata": {},
   "source": [
    "####  Northern Hemisphere - Humidity (%) vs. Latitude Linear Regression"
   ]
  },
  {
   "cell_type": "code",
   "execution_count": 39,
   "metadata": {},
   "outputs": [
    {
     "name": "stdout",
     "output_type": "stream",
     "text": [
      "The r-squared is: 0.2801956207433057\n"
     ]
    },
    {
     "data": {
      "image/png": "[encoded data removed]",
      "text/plain": [
       "<Figure size 432x288 with 1 Axes>"
      ]
     },
     "metadata": {
      "needs_background": "light"
     },
     "output_type": "display_data"
    }
   ],
   "source": [
    "# Northern Hemisphere - Humidity vs. Lat\n",
    "xlabel = \"Lat\"\n",
    "ylabel = \"Humidity\"\n",
    "labelpos = (45,20)\n",
    "ifig=\"Northern Hemisphere - Humidity vs. Latitude (3/14/20)\"\n",
    "plot_regression(n_hem[xlabel], n_hem[ylabel], xlabel, ylabel, labelpos, ifig) "
   ]
  },
  {
   "cell_type": "markdown",
   "metadata": {},
   "source": [
    "####  Southern Hemisphere - Humidity (%) vs. Latitude Linear Regression"
   ]
  },
  {
   "cell_type": "code",
   "execution_count": 40,
   "metadata": {},
   "outputs": [
    {
     "name": "stdout",
     "output_type": "stream",
     "text": [
      "The r-squared is: 0.19696118835687165\n"
     ]
    },
    {
     "data": {
      "image/png": "[encoded data removed]",
      "text/plain": [
       "<Figure size 432x288 with 1 Axes>"
      ]
     },
     "metadata": {
      "needs_background": "light"
     },
     "output_type": "display_data"
    }
   ],
   "source": [
    "# Southern Hemisphere - Humidity vs. Lat\n",
    "xlabel = \"Lat\"\n",
    "ylabel = \"Humidity\"\n",
    "labelpos = (-55,40)\n",
    "ifig=\"Southern Hemisphere - Humidity vs. Latitude (3/14/20)\"\n",
    "plot_regression(s_hem[xlabel], s_hem[ylabel], xlabel, ylabel, labelpos, ifig) "
   ]
  },
  {
   "cell_type": "markdown",
   "metadata": {},
   "source": [
    "After running the linear regression for Humidity vs. Latitude for each hemisphere, the models and plots show that there does not appear to be a relationship between a city's latitude and its humidity percentage. Both models describe a correlation that is nonexistent or very weak."
   ]
  },
  {
   "cell_type": "markdown",
   "metadata": {},
   "source": [
    "####  Northern Hemisphere - Cloudiness (%) vs. Latitude Linear Regression"
   ]
  },
  {
   "cell_type": "code",
   "execution_count": 41,
   "metadata": {},
   "outputs": [
    {
     "name": "stdout",
     "output_type": "stream",
     "text": [
      "The r-squared is: 0.26184824109725785\n"
     ]
    },
    {
     "data": {
      "image/png": "[encoded data removed]",
      "text/plain": [
       "<Figure size 432x288 with 1 Axes>"
      ]
     },
     "metadata": {
      "needs_background": "light"
     },
     "output_type": "display_data"
    }
   ],
   "source": [
    "# Northern Hemisphere - Cloudiness vs. Lat\n",
    "xlabel = \"Lat\"\n",
    "ylabel = \"Cloudiness\"\n",
    "labelpos = (-55,40)\n",
    "ifig=\"Northern Hemisphere - Cloudiness vs. Latitude (3/14/20)\"\n",
    "plot_regression(n_hem[xlabel], n_hem[ylabel], xlabel, ylabel, labelpos, ifig) "
   ]
  },
  {
   "cell_type": "markdown",
   "metadata": {},
   "source": [
    "####  Southern Hemisphere - Cloudiness (%) vs. Latitude Linear Regression"
   ]
  },
  {
   "cell_type": "code",
   "execution_count": 44,
   "metadata": {},
   "outputs": [
    {
     "name": "stdout",
     "output_type": "stream",
     "text": [
      "The r-squared is: 0.22237564921916947\n"
     ]
    },
    {
     "data": {
      "image/png": "[encoded data removed]",
      "text/plain": [
       "<Figure size 432x288 with 1 Axes>"
      ]
     },
     "metadata": {
      "needs_background": "light"
     },
     "output_type": "display_data"
    }
   ],
   "source": [
    "# Southern Hemisphere - Cloudiness vs. Lat\n",
    "xlabel = \"Lat\"\n",
    "ylabel = \"Cloudiness\"\n",
    "labelpos = (-55,55)\n",
    "ifig=\"Southern Hemisphere - Cloudiness vs. Latitude (3/14/20)\"\n",
    "plot_regression(s_hem[xlabel], s_hem[ylabel], xlabel, ylabel, labelpos, ifig) "
   ]
  },
  {
   "cell_type": "markdown",
   "metadata": {},
   "source": [
    "After running the linear regression for Cloudiness vs. Latitude for each hemisphere, the models and plots show that there does not appear to be a relationship between a city's latitude and its cloudiness percentage. Both models describe a correlation that is nonexistent or very weak."
   ]
  },
  {
   "cell_type": "markdown",
   "metadata": {},
   "source": [
    "####  Northern Hemisphere - Wind Speed (mph) vs. Latitude Linear Regression"
   ]
  },
  {
   "cell_type": "code",
   "execution_count": 47,
   "metadata": {},
   "outputs": [
    {
     "name": "stdout",
     "output_type": "stream",
     "text": [
      "The r-squared is: 0.25991400475173804\n"
     ]
    },
    {
     "data": {
      "image/png": "[encoded data removed]",
      "text/plain": [
       "<Figure size 432x288 with 1 Axes>"
      ]
     },
     "metadata": {
      "needs_background": "light"
     },
     "output_type": "display_data"
    }
   ],
   "source": [
    "# Northern Hemisphere - Wind Speed vs. Lat\n",
    "xlabel = \"Lat\"\n",
    "ylabel = \"Windspeed\"\n",
    "labelpos = (20,50)\n",
    "ifig=\"Northern Hemisphere - Wind Speed vs. Latitude (3/14/20)\"\n",
    "plot_regression(n_hem[xlabel], n_hem[ylabel], xlabel, ylabel, labelpos, ifig) "
   ]
  },
  {
   "cell_type": "markdown",
   "metadata": {},
   "source": [
    "####  Southern Hemisphere - Wind Speed (mph) vs. Latitude Linear Regression"
   ]
  },
  {
   "cell_type": "code",
   "execution_count": 60,
   "metadata": {},
   "outputs": [
    {
     "name": "stdout",
     "output_type": "stream",
     "text": [
      "The r-squared is: -0.23208048420701666\n"
     ]
    },
    {
     "data": {
      "image/png": "[encoded data removed]",
      "text/plain": [
       "<Figure size 432x288 with 1 Axes>"
      ]
     },
     "metadata": {
      "needs_background": "light"
     },
     "output_type": "display_data"
    },
    {
     "data": {
      "text/plain": [
       "<Figure size 432x288 with 0 Axes>"
      ]
     },
     "metadata": {},
     "output_type": "display_data"
    }
   ],
   "source": [
    "# Southern Hemisphere - Wind Speed vs. Lat\n",
    "xlabel = \"Lat\"\n",
    "ylabel = \"Windspeed\"\n",
    "labelpos = (-50,40)\n",
    "ifig=\"Southern Hemisphere - Wind Speed vs. Latitude (3/14/20)\"\n",
    "plot_regression(s_hem[xlabel], s_hem[ylabel], xlabel, ylabel, labelpos, ifig) "
   ]
  },
  {
   "cell_type": "markdown",
   "metadata": {},
   "source": [
    "After running the linear regression for Wind Speed vs. Latitude for each hemisphere, the models and plots show that there does not appear to be a relationship between a city's latitude and its wind speed. Both models depict a correlation that is nonexistent or very weak."
   ]
  },
  {
   "cell_type": "code",
   "execution_count": null,
   "metadata": {},
   "outputs": [],
   "source": []
  }
 ],
 "metadata": {
  "anaconda-cloud": {},
  "kernel_info": {
   "name": "python3"
  },
  "kernelspec": {
   "display_name": "Python 3",
   "language": "python",
   "name": "python3"
  },
  "language_info": {
   "codemirror_mode": {
    "name": "ipython",
    "version": 3
   },
   "file_extension": ".py",
   "mimetype": "text/x-python",
   "name": "python",
   "nbconvert_exporter": "python",
   "pygments_lexer": "ipython3",
   "version": "3.7.4"
  },
  "latex_envs": {
   "LaTeX_envs_menu_present": true,
   "autoclose": false,
   "autocomplete": true,
   "bibliofile": "biblio.bib",
   "cite_by": "apalike",
   "current_citInitial": 1,
   "eqLabelWithNumbers": true,
   "eqNumInitial": 1,
   "hotkeys": {
    "equation": "Ctrl-E",
    "itemize": "Ctrl-I"
   },
   "labels_anchors": false,
   "latex_user_defs": false,
   "report_style_numbering": false,
   "user_envs_cfg": false
  },
  "nteract": {
   "version": "0.12.3"
  }
 },
 "nbformat": 4,
 "nbformat_minor": 2
}
